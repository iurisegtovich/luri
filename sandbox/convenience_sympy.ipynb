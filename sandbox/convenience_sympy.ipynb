{
 "cells": [
  {
   "cell_type": "code",
   "execution_count": 15,
   "metadata": {},
   "outputs": [],
   "source": [
    "import sympy\n",
    "sympy.init_printing()\n",
    "\n",
    "#https://rszalski.github.io/magicmethods/"
   ]
  },
  {
   "cell_type": "code",
   "execution_count": 24,
   "metadata": {},
   "outputs": [
    {
     "data": {
      "image/png": "[encoded data removed]",
      "text/latex": [
       "$\\displaystyle \\left( a, \\  b, \\  x\\right)$"
      ],
      "text/plain": [
       "(a, b, x)"
      ]
     },
     "execution_count": 24,
     "metadata": {},
     "output_type": "execute_result"
    }
   ],
   "source": [
    "class sym():\n",
    "    import sympy\n",
    "#     def __init__(self):\n",
    "#         return\n",
    "    \n",
    "    def __mod__(self,x):\n",
    "        return sympy.symbols(x) #takes single symbol or several separated by either spaces or comma\n",
    "    \n",
    "#     def __floordiv__(self,x):\n",
    "#         return \"//\"\n",
    "    \n",
    "    \n",
    "    \n",
    "    \n",
    "    pass\n",
    "\n",
    "#singleton\n",
    "sym=sym()\n",
    "\n",
    "x=sym%\"x\" #better % than ( or [ because doesnt need closing ] )\n",
    "a,b=sym%\"a,b\"\n",
    "\n",
    "a,b,x"
   ]
  },
  {
   "cell_type": "code",
   "execution_count": null,
   "metadata": {},
   "outputs": [],
   "source": []
  }
 ],
 "metadata": {
  "kernelspec": {
   "display_name": "Python 3",
   "language": "python",
   "name": "python3"
  },
  "language_info": {
   "codemirror_mode": {
    "name": "ipython",
    "version": 3
   },
   "file_extension": ".py",
   "mimetype": "text/x-python",
   "name": "python",
   "nbconvert_exporter": "python",
   "pygments_lexer": "ipython3",
   "version": "3.7.6"
  }
 },
 "nbformat": 4,
 "nbformat_minor": 4
}
