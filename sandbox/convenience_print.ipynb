{
 "cells": [
  {
   "cell_type": "code",
   "execution_count": 14,
   "metadata": {},
   "outputs": [],
   "source": [
    "#https://rszalski.github.io/magicmethods/"
   ]
  },
  {
   "cell_type": "code",
   "execution_count": 15,
   "metadata": {},
   "outputs": [
    {
     "name": "stdout",
     "output_type": "stream",
     "text": [
      "<= 2\n",
      "< 2\n",
      "<< 2\n"
     ]
    }
   ],
   "source": [
    "class prt(): #print prt disp scr log see\n",
    "#     def __init__(self):\n",
    "#         return\n",
    "    \n",
    "    def __le__(self,x):\n",
    "        print('<=',x)\n",
    "        return\n",
    "    \n",
    "    def __lt__(self,x):\n",
    "        print('<',x)\n",
    "        return\n",
    "    \n",
    "    def __lshift__(self,x):\n",
    "        print('<<',x)\n",
    "        return    \n",
    "    \n",
    "    \n",
    "#     def __floordiv__(self,x):\n",
    "#         return \"//\"\n",
    "    \n",
    "    \n",
    "    \n",
    "    \n",
    "    pass\n",
    "\n",
    "#singleton\n",
    "prt=prt()\n",
    "\n",
    "x=1+1\n",
    "\n",
    "prt <= x\n",
    "prt < x\n",
    "prt << x"
   ]
  },
  {
   "cell_type": "code",
   "execution_count": null,
   "metadata": {},
   "outputs": [],
   "source": []
  }
 ],
 "metadata": {
  "kernelspec": {
   "display_name": "Python 3",
   "language": "python",
   "name": "python3"
  },
  "language_info": {
   "codemirror_mode": {
    "name": "ipython",
    "version": 3
   },
   "file_extension": ".py",
   "mimetype": "text/x-python",
   "name": "python",
   "nbconvert_exporter": "python",
   "pygments_lexer": "ipython3",
   "version": "3.7.6"
  }
 },
 "nbformat": 4,
 "nbformat_minor": 4
}
